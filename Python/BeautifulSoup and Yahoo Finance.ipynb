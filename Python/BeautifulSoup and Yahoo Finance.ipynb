{
 "cells": [
  {
   "cell_type": "markdown",
   "metadata": {},
   "source": [
    "# Beautiful Soup and Yahoo! Finance\n",
    "###### Mike Magruder, 2020/02/19\n",
    "\n",
    "Yahoo! Finance is the best site to scrape for stock data as of early 2020. That may change one day, but it works for now and lots of people and tools rely on it, so it's a safe bet for a school project for sure.\n",
    "\n",
    "The URL for a stock quote page is very stable. For example, Apple's quote page is https://finance.yahoo.com/quote/AAPL?p=AAPL\n",
    "\n",
    "They're famous for having two tables on the quote page that are really, really useful and really, really stable. The tables are obvious when looking at the quote page, and the first has \"Previous Close\" as the first row and the second starts with \"Market Cap.\"\n",
    "\n",
    "You can use Beautiful Soup to find all tables, then pick the tables apart and build up something useful in Python. This notebook shows the process."
   ]
  },
  {
   "cell_type": "code",
   "execution_count": 2,
   "metadata": {},
   "outputs": [],
   "source": [
    "import requests\n",
    "from bs4 import BeautifulSoup"
   ]
  },
  {
   "cell_type": "code",
   "execution_count": 2,
   "metadata": {},
   "outputs": [
    {
     "data": {
      "text/plain": [
       "200"
      ]
     },
     "execution_count": 2,
     "metadata": {},
     "output_type": "execute_result"
    }
   ],
   "source": [
    "r = requests.get('https://finance.yahoo.com/quote/AAPL?p=AAPL')  # Request a quote page for AAPL and check the response code. It should be 200, meaning success.\n",
    "r.status_code"
   ]
  },
  {
   "cell_type": "code",
   "execution_count": 3,
   "metadata": {},
   "outputs": [
    {
     "data": {
      "text/plain": [
       "'<!DOCTYPE html><html id=\"atomic\" class=\"NoJs featurephone\" lang=\"en-US\"><head prefix=\"og: http://ogp'"
      ]
     },
     "execution_count": 3,
     "metadata": {},
     "output_type": "execute_result"
    }
   ],
   "source": [
    "r.text[:100]  # Let's see a little bit of the result"
   ]
  },
  {
   "cell_type": "code",
   "execution_count": 4,
   "metadata": {},
   "outputs": [
    {
     "data": {
      "text/plain": [
       "<title>Apple Inc. (AAPL) Stock Price, Quote, History &amp; News - Yahoo Finance</title>"
      ]
     },
     "execution_count": 4,
     "metadata": {},
     "output_type": "execute_result"
    }
   ],
   "source": [
    "soup = BeautifulSoup(r.text, 'html.parser')  # Make some soup...\n",
    "soup.title  # Did it kinda work? "
   ]
  },
  {
   "cell_type": "code",
   "execution_count": 5,
   "metadata": {},
   "outputs": [
    {
     "data": {
      "text/plain": [
       "2"
      ]
     },
     "execution_count": 5,
     "metadata": {},
     "output_type": "execute_result"
    }
   ],
   "source": [
    "tables = soup.findAll('table')  # Find those tables... there should be two.\n",
    "len(tables)"
   ]
  },
  {
   "cell_type": "code",
   "execution_count": 6,
   "metadata": {},
   "outputs": [
    {
     "data": {
      "text/plain": [
       "<tr class=\"Bxz(bb) Bdbw(1px) Bdbs(s) Bdc($seperatorColor) H(36px)\" data-reactid=\"12\"><td class=\"C($primaryColor) W(51%)\" data-reactid=\"13\"><span data-reactid=\"14\">Previous Close</span></td><td class=\"Ta(end) Fw(600) Lh(14px)\" data-reactid=\"15\" data-test=\"PREV_CLOSE-value\"><span class=\"Trsdu(0.3s)\" data-reactid=\"16\">319.00</span></td></tr>"
      ]
     },
     "execution_count": 6,
     "metadata": {},
     "output_type": "execute_result"
    }
   ],
   "source": [
    "t1 = tables[0]\n",
    "rows = t1.findAll('tr')  # If we have a table, we can find the rows within it. NB: we're calling findAll() on the first table, not the whole soup.\n",
    "rows[0]"
   ]
  },
  {
   "cell_type": "code",
   "execution_count": 7,
   "metadata": {},
   "outputs": [
    {
     "data": {
      "text/plain": [
       "<td class=\"C($primaryColor) W(51%)\" data-reactid=\"13\"><span data-reactid=\"14\">Previous Close</span></td>"
      ]
     },
     "execution_count": 7,
     "metadata": {},
     "output_type": "execute_result"
    }
   ],
   "source": [
    "cols = rows[0].findAll('td')  # And of course, rows have columns...\n",
    "cols[0]"
   ]
  },
  {
   "cell_type": "markdown",
   "metadata": {},
   "source": [
    "## Parsing all quote data\n",
    "So, given that we can find the tables, and the rows and columns within, let's turn them into a dictionary keyed by the description of each value in the table. This will make it really easy to lookup whatever you want later.\n",
    "\n",
    "NB: every row in each of these tables has just two columns: the name of a value, and the value. We use the name as the key in the dictionary."
   ]
  },
  {
   "cell_type": "code",
   "execution_count": 8,
   "metadata": {},
   "outputs": [
    {
     "data": {
      "text/plain": [
       "{'Previous Close': '319.00',\n",
       " 'Open': '320.00',\n",
       " 'Bid': '323.64 x 800',\n",
       " 'Ask': '323.39 x 1300',\n",
       " \"Day's Range\": '320.00 - 324.54',\n",
       " '52 Week Range': '169.50 - 327.85',\n",
       " 'Volume': '22,677,483',\n",
       " 'Avg. Volume': '29,879,924',\n",
       " 'Market Cap': '1.416T',\n",
       " 'Beta (5Y Monthly)': '1.28',\n",
       " 'PE Ratio (TTM)': '25.69',\n",
       " 'EPS (TTM)': '12.60',\n",
       " 'Earnings Date': 'Apr 27, 2020 - May 03, 2020',\n",
       " 'Forward Dividend & Yield': '3.08 (0.95%)',\n",
       " 'Ex-Dividend Date': 'Feb 06, 2020',\n",
       " '1y Target Est': '333.31'}"
      ]
     },
     "execution_count": 8,
     "metadata": {},
     "output_type": "execute_result"
    }
   ],
   "source": [
    "stock_quote = {}\n",
    "\n",
    "for table in soup.findAll('table'):\n",
    "    for row in table.findAll('tr'):\n",
    "        cols = row.findAll('td')\n",
    "        stock_quote[cols[0].text.strip()] = cols[1].text.strip()\n",
    "\n",
    "stock_quote"
   ]
  },
  {
   "cell_type": "code",
   "execution_count": 9,
   "metadata": {},
   "outputs": [
    {
     "data": {
      "text/plain": [
       "'319.00'"
      ]
     },
     "execution_count": 9,
     "metadata": {},
     "output_type": "execute_result"
    }
   ],
   "source": [
    "stock_quote['Previous Close']"
   ]
  },
  {
   "cell_type": "markdown",
   "metadata": {},
   "source": [
    "## Parsing the current price\n",
    "Finding the live, current price is harder. There isn't a very good marker to go off of to find the right piece of HTML. Using the inspector in Chrome or Firefox you can see that the current price is in a span with very weird class tags, and a data-reactid tag. I recommend against relying on the data-reactid tag as I suspect it could change easily. The class tag is typically more stable, though honestly in this case it seems quite brittle and likley to change as well. Still, we'll go with the class tag.\n",
    "\n",
    "An alternative to grabbing the actual current price is to use daily prices via the Previous Close above, to get the last price from yesterday, or to use the Ask price, which will be reasonably close to the current price and ought to be good enough for even minute-level data."
   ]
  },
  {
   "cell_type": "code",
   "execution_count": 10,
   "metadata": {},
   "outputs": [
    {
     "data": {
      "text/plain": [
       "[<span data-reactid=\"31\">No matching results for ''</span>,\n",
       " <span data-reactid=\"33\">Tip: Try a valid symbol or a specific company name for relevant results</span>,\n",
       " <span data-reactid=\"36\">Cancel</span>,\n",
       " <span data-reactid=\"9\">Summary</span>,\n",
       " <span data-reactid=\"13\">Statistics</span>,\n",
       " <span data-reactid=\"17\">Historical Data</span>,\n",
       " <span data-reactid=\"21\">Profile</span>,\n",
       " <span data-reactid=\"25\">Financials</span>,\n",
       " <span data-reactid=\"29\">Analysis</span>,\n",
       " <span data-reactid=\"33\">Options</span>,\n",
       " <span data-reactid=\"37\">Holders</span>,\n",
       " <span data-reactid=\"41\">Sustainability</span>,\n",
       " <span data-reactid=\"9\">NasdaqGS - NasdaqGS Real Time Price. Currency in USD</span>,\n",
       " <span class=\"Trsdu(0.3s) Trsdu(0.3s) Fw(b) Fz(36px) Mb(-4px) D(b)\" data-reactid=\"14\">323.62</span>,\n",
       " <span class=\"Trsdu(0.3s) Fw(500) Fz(14px) C($dataGreen)\" data-reactid=\"16\">+4.62 (+1.45%)</span>]"
      ]
     },
     "execution_count": 10,
     "metadata": {},
     "output_type": "execute_result"
    }
   ],
   "source": [
    "soup.findAll('span')[:15]  # Let's look at the first 15 spans, and indeed we can see the current price in there and its class tags."
   ]
  },
  {
   "cell_type": "code",
   "execution_count": 11,
   "metadata": {},
   "outputs": [
    {
     "data": {
      "text/plain": [
       "'323.62'"
      ]
     },
     "execution_count": 11,
     "metadata": {},
     "output_type": "execute_result"
    }
   ],
   "source": [
    "current_value = soup.find('span', attrs={'class': 'Trsdu(0.3s) Trsdu(0.3s) Fw(b) Fz(36px) Mb(-4px) D(b)'}).text.strip()\n",
    "current_value"
   ]
  }
 ],
 "metadata": {
  "kernelspec": {
   "display_name": "Python 3",
   "language": "python",
   "name": "python3"
  },
  "language_info": {
   "codemirror_mode": {
    "name": "ipython",
    "version": 3
   },
   "file_extension": ".py",
   "mimetype": "text/x-python",
   "name": "python",
   "nbconvert_exporter": "python",
   "pygments_lexer": "ipython3",
   "version": "3.7.6"
  }
 },
 "nbformat": 4,
 "nbformat_minor": 4
}
